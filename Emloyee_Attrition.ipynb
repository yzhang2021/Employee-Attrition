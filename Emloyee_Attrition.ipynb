{
  "nbformat": 4,
  "nbformat_minor": 0,
  "metadata": {
    "colab": {
      "name": "Emloyee_Attrition.ipynb",
      "provenance": [],
      "collapsed_sections": []
    },
    "kernelspec": {
      "name": "python3",
      "display_name": "Python 3"
    }
  },
  "cells": [
    {
      "cell_type": "code",
      "metadata": {
        "colab": {
          "base_uri": "https://localhost:8080/"
        },
        "id": "evPEkVCuvNDQ",
        "outputId": "eeef389d-b7d6-4edf-c5d7-7e35896b825e"
      },
      "source": [
        " from google.colab import drive\n",
        "drive.mount('/content/drive')"
      ],
      "execution_count": 2,
      "outputs": [
        {
          "output_type": "stream",
          "text": [
            "Mounted at /content/drive\n"
          ],
          "name": "stdout"
        }
      ]
    },
    {
      "cell_type": "code",
      "metadata": {
        "id": "r6_N9KCRvagt"
      },
      "source": [
        "# Import libraries\n",
        "import pandas as pd\n",
        "import numpy as np\n",
        "import matplotlib.pyplot as plt\n",
        "import seaborn as sns\n",
        "\n",
        "from sklearn.model_selection import train_test_split\n",
        "from sklearn.preprocessing import StandardScaler,LabelEncoder\n",
        "from sklearn.linear_model import LogisticRegression\n",
        "from sklearn.neighbors import KNeighborsClassifier\n",
        "from sklearn.ensemble import RandomForestClassifier\n",
        "\n",
        "from sklearn.metrics import classification_report"
      ],
      "execution_count": 3,
      "outputs": []
    },
    {
      "cell_type": "code",
      "metadata": {
        "colab": {
          "base_uri": "https://localhost:8080/",
          "height": 309
        },
        "id": "jWcO8_XOwAhH",
        "outputId": "10dd362c-de19-4794-882a-d775f4723426"
      },
      "source": [
        "# Load file\n",
        "filename='/content/drive/MyDrive/employee_attrition.csv'\n",
        "employee=pd.read_csv(filename)\n",
        "employee.set_index('EmployeeNumber')    # set the employee number column as index\n",
        "employee.head()"
      ],
      "execution_count": 4,
      "outputs": [
        {
          "output_type": "execute_result",
          "data": {
            "text/html": [
              "<div>\n",
              "<style scoped>\n",
              "    .dataframe tbody tr th:only-of-type {\n",
              "        vertical-align: middle;\n",
              "    }\n",
              "\n",
              "    .dataframe tbody tr th {\n",
              "        vertical-align: top;\n",
              "    }\n",
              "\n",
              "    .dataframe thead th {\n",
              "        text-align: right;\n",
              "    }\n",
              "</style>\n",
              "<table border=\"1\" class=\"dataframe\">\n",
              "  <thead>\n",
              "    <tr style=\"text-align: right;\">\n",
              "      <th></th>\n",
              "      <th>Age</th>\n",
              "      <th>Attrition</th>\n",
              "      <th>BusinessTravel</th>\n",
              "      <th>DailyRate</th>\n",
              "      <th>Department</th>\n",
              "      <th>DistanceFromHome</th>\n",
              "      <th>Education</th>\n",
              "      <th>EducationField</th>\n",
              "      <th>EmployeeCount</th>\n",
              "      <th>EmployeeNumber</th>\n",
              "      <th>EnvironmentSatisfaction</th>\n",
              "      <th>Gender</th>\n",
              "      <th>HourlyRate</th>\n",
              "      <th>JobInvolvement</th>\n",
              "      <th>JobLevel</th>\n",
              "      <th>JobRole</th>\n",
              "      <th>JobSatisfaction</th>\n",
              "      <th>MaritalStatus</th>\n",
              "      <th>MonthlyIncome</th>\n",
              "      <th>MonthlyRate</th>\n",
              "      <th>NumCompaniesWorked</th>\n",
              "      <th>Over18</th>\n",
              "      <th>OverTime</th>\n",
              "      <th>PercentSalaryHike</th>\n",
              "      <th>PerformanceRating</th>\n",
              "      <th>RelationshipSatisfaction</th>\n",
              "      <th>StandardHours</th>\n",
              "      <th>StockOptionLevel</th>\n",
              "      <th>TotalWorkingYears</th>\n",
              "      <th>TrainingTimesLastYear</th>\n",
              "      <th>WorkLifeBalance</th>\n",
              "      <th>YearsAtCompany</th>\n",
              "      <th>YearsInCurrentRole</th>\n",
              "      <th>YearsSinceLastPromotion</th>\n",
              "      <th>YearsWithCurrManager</th>\n",
              "    </tr>\n",
              "  </thead>\n",
              "  <tbody>\n",
              "    <tr>\n",
              "      <th>0</th>\n",
              "      <td>41</td>\n",
              "      <td>Yes</td>\n",
              "      <td>Travel_Rarely</td>\n",
              "      <td>1102</td>\n",
              "      <td>Sales</td>\n",
              "      <td>1</td>\n",
              "      <td>2</td>\n",
              "      <td>Life Sciences</td>\n",
              "      <td>1</td>\n",
              "      <td>1</td>\n",
              "      <td>2</td>\n",
              "      <td>Female</td>\n",
              "      <td>94</td>\n",
              "      <td>3</td>\n",
              "      <td>2</td>\n",
              "      <td>Sales Executive</td>\n",
              "      <td>4</td>\n",
              "      <td>Single</td>\n",
              "      <td>5993</td>\n",
              "      <td>19479</td>\n",
              "      <td>8</td>\n",
              "      <td>Y</td>\n",
              "      <td>Yes</td>\n",
              "      <td>11</td>\n",
              "      <td>3</td>\n",
              "      <td>1</td>\n",
              "      <td>80</td>\n",
              "      <td>0</td>\n",
              "      <td>8</td>\n",
              "      <td>0</td>\n",
              "      <td>1</td>\n",
              "      <td>6</td>\n",
              "      <td>4</td>\n",
              "      <td>0</td>\n",
              "      <td>5</td>\n",
              "    </tr>\n",
              "    <tr>\n",
              "      <th>1</th>\n",
              "      <td>49</td>\n",
              "      <td>No</td>\n",
              "      <td>Travel_Frequently</td>\n",
              "      <td>279</td>\n",
              "      <td>Research &amp; Development</td>\n",
              "      <td>8</td>\n",
              "      <td>1</td>\n",
              "      <td>Life Sciences</td>\n",
              "      <td>1</td>\n",
              "      <td>2</td>\n",
              "      <td>3</td>\n",
              "      <td>NaN</td>\n",
              "      <td>61</td>\n",
              "      <td>2</td>\n",
              "      <td>2</td>\n",
              "      <td>Research Scientist</td>\n",
              "      <td>2</td>\n",
              "      <td>Married</td>\n",
              "      <td>5130</td>\n",
              "      <td>24907</td>\n",
              "      <td>1</td>\n",
              "      <td>Y</td>\n",
              "      <td>No</td>\n",
              "      <td>23</td>\n",
              "      <td>4</td>\n",
              "      <td>4</td>\n",
              "      <td>80</td>\n",
              "      <td>1</td>\n",
              "      <td>10</td>\n",
              "      <td>3</td>\n",
              "      <td>3</td>\n",
              "      <td>10</td>\n",
              "      <td>7</td>\n",
              "      <td>1</td>\n",
              "      <td>7</td>\n",
              "    </tr>\n",
              "    <tr>\n",
              "      <th>2</th>\n",
              "      <td>37</td>\n",
              "      <td>Yes</td>\n",
              "      <td>Travel_Rarely</td>\n",
              "      <td>1373</td>\n",
              "      <td>Research &amp; Development</td>\n",
              "      <td>2</td>\n",
              "      <td>2</td>\n",
              "      <td>Other</td>\n",
              "      <td>1</td>\n",
              "      <td>4</td>\n",
              "      <td>4</td>\n",
              "      <td>NaN</td>\n",
              "      <td>92</td>\n",
              "      <td>2</td>\n",
              "      <td>1</td>\n",
              "      <td>Laboratory Technician</td>\n",
              "      <td>3</td>\n",
              "      <td>Single</td>\n",
              "      <td>2090</td>\n",
              "      <td>2396</td>\n",
              "      <td>6</td>\n",
              "      <td>Y</td>\n",
              "      <td>Yes</td>\n",
              "      <td>15</td>\n",
              "      <td>3</td>\n",
              "      <td>2</td>\n",
              "      <td>80</td>\n",
              "      <td>0</td>\n",
              "      <td>7</td>\n",
              "      <td>3</td>\n",
              "      <td>3</td>\n",
              "      <td>0</td>\n",
              "      <td>0</td>\n",
              "      <td>0</td>\n",
              "      <td>0</td>\n",
              "    </tr>\n",
              "    <tr>\n",
              "      <th>3</th>\n",
              "      <td>33</td>\n",
              "      <td>No</td>\n",
              "      <td>Travel_Frequently</td>\n",
              "      <td>1392</td>\n",
              "      <td>Research &amp; Development</td>\n",
              "      <td>3</td>\n",
              "      <td>4</td>\n",
              "      <td>Life Sciences</td>\n",
              "      <td>1</td>\n",
              "      <td>5</td>\n",
              "      <td>4</td>\n",
              "      <td>Female</td>\n",
              "      <td>56</td>\n",
              "      <td>3</td>\n",
              "      <td>1</td>\n",
              "      <td>Research Scientist</td>\n",
              "      <td>3</td>\n",
              "      <td>Married</td>\n",
              "      <td>2909</td>\n",
              "      <td>23159</td>\n",
              "      <td>1</td>\n",
              "      <td>Y</td>\n",
              "      <td>Yes</td>\n",
              "      <td>11</td>\n",
              "      <td>3</td>\n",
              "      <td>3</td>\n",
              "      <td>80</td>\n",
              "      <td>0</td>\n",
              "      <td>8</td>\n",
              "      <td>3</td>\n",
              "      <td>3</td>\n",
              "      <td>8</td>\n",
              "      <td>7</td>\n",
              "      <td>3</td>\n",
              "      <td>0</td>\n",
              "    </tr>\n",
              "    <tr>\n",
              "      <th>4</th>\n",
              "      <td>27</td>\n",
              "      <td>No</td>\n",
              "      <td>Travel_Rarely</td>\n",
              "      <td>591</td>\n",
              "      <td>Research &amp; Development</td>\n",
              "      <td>2</td>\n",
              "      <td>1</td>\n",
              "      <td>Medical</td>\n",
              "      <td>1</td>\n",
              "      <td>7</td>\n",
              "      <td>1</td>\n",
              "      <td>NaN</td>\n",
              "      <td>40</td>\n",
              "      <td>3</td>\n",
              "      <td>1</td>\n",
              "      <td>Laboratory Technician</td>\n",
              "      <td>2</td>\n",
              "      <td>Married</td>\n",
              "      <td>3468</td>\n",
              "      <td>16632</td>\n",
              "      <td>9</td>\n",
              "      <td>Y</td>\n",
              "      <td>No</td>\n",
              "      <td>12</td>\n",
              "      <td>3</td>\n",
              "      <td>4</td>\n",
              "      <td>80</td>\n",
              "      <td>1</td>\n",
              "      <td>6</td>\n",
              "      <td>3</td>\n",
              "      <td>3</td>\n",
              "      <td>2</td>\n",
              "      <td>2</td>\n",
              "      <td>2</td>\n",
              "      <td>2</td>\n",
              "    </tr>\n",
              "  </tbody>\n",
              "</table>\n",
              "</div>"
            ],
            "text/plain": [
              "   Age Attrition  ... YearsSinceLastPromotion  YearsWithCurrManager\n",
              "0   41       Yes  ...                       0                     5\n",
              "1   49        No  ...                       1                     7\n",
              "2   37       Yes  ...                       0                     0\n",
              "3   33        No  ...                       3                     0\n",
              "4   27        No  ...                       2                     2\n",
              "\n",
              "[5 rows x 35 columns]"
            ]
          },
          "metadata": {
            "tags": []
          },
          "execution_count": 4
        }
      ]
    },
    {
      "cell_type": "code",
      "metadata": {
        "colab": {
          "base_uri": "https://localhost:8080/"
        },
        "id": "paXRny8WwgNA",
        "outputId": "161a2c41-1ce7-4d19-eb86-9345f0126389"
      },
      "source": [
        "# Check datatypes and missing values\n",
        "employee.info()"
      ],
      "execution_count": 4,
      "outputs": [
        {
          "output_type": "stream",
          "text": [
            "<class 'pandas.core.frame.DataFrame'>\n",
            "RangeIndex: 1470 entries, 0 to 1469\n",
            "Data columns (total 35 columns):\n",
            " #   Column                    Non-Null Count  Dtype \n",
            "---  ------                    --------------  ----- \n",
            " 0   Age                       1470 non-null   int64 \n",
            " 1   Attrition                 1470 non-null   object\n",
            " 2   BusinessTravel            1470 non-null   object\n",
            " 3   DailyRate                 1470 non-null   int64 \n",
            " 4   Department                1470 non-null   object\n",
            " 5   DistanceFromHome          1470 non-null   int64 \n",
            " 6   Education                 1470 non-null   int64 \n",
            " 7   EducationField            1470 non-null   object\n",
            " 8   EmployeeCount             1470 non-null   int64 \n",
            " 9   EmployeeNumber            1470 non-null   int64 \n",
            " 10  EnvironmentSatisfaction   1470 non-null   int64 \n",
            " 11  Gender                    588 non-null    object\n",
            " 12  HourlyRate                1470 non-null   int64 \n",
            " 13  JobInvolvement            1470 non-null   int64 \n",
            " 14  JobLevel                  1470 non-null   int64 \n",
            " 15  JobRole                   1470 non-null   object\n",
            " 16  JobSatisfaction           1470 non-null   int64 \n",
            " 17  MaritalStatus             1470 non-null   object\n",
            " 18  MonthlyIncome             1470 non-null   int64 \n",
            " 19  MonthlyRate               1470 non-null   int64 \n",
            " 20  NumCompaniesWorked        1470 non-null   int64 \n",
            " 21  Over18                    1470 non-null   object\n",
            " 22  OverTime                  1470 non-null   object\n",
            " 23  PercentSalaryHike         1470 non-null   int64 \n",
            " 24  PerformanceRating         1470 non-null   int64 \n",
            " 25  RelationshipSatisfaction  1470 non-null   int64 \n",
            " 26  StandardHours             1470 non-null   int64 \n",
            " 27  StockOptionLevel          1470 non-null   int64 \n",
            " 28  TotalWorkingYears         1470 non-null   int64 \n",
            " 29  TrainingTimesLastYear     1470 non-null   int64 \n",
            " 30  WorkLifeBalance           1470 non-null   int64 \n",
            " 31  YearsAtCompany            1470 non-null   object\n",
            " 32  YearsInCurrentRole        1470 non-null   int64 \n",
            " 33  YearsSinceLastPromotion   1470 non-null   int64 \n",
            " 34  YearsWithCurrManager      1470 non-null   int64 \n",
            "dtypes: int64(25), object(10)\n",
            "memory usage: 402.1+ KB\n"
          ],
          "name": "stdout"
        }
      ]
    },
    {
      "cell_type": "markdown",
      "metadata": {
        "id": "0dUBfEIE5jlx"
      },
      "source": [
        "# EDA"
      ]
    },
    {
      "cell_type": "markdown",
      "metadata": {
        "id": "3cN9EEfYZDOM"
      },
      "source": [
        "Missing values"
      ]
    },
    {
      "cell_type": "code",
      "metadata": {
        "colab": {
          "base_uri": "https://localhost:8080/"
        },
        "id": "IfzqiNWukhYn",
        "outputId": "6717b399-83f4-4ac5-dcd7-ac86b1aee40a"
      },
      "source": [
        "employee.Gender.value_counts(dropna=False)"
      ],
      "execution_count": 5,
      "outputs": [
        {
          "output_type": "execute_result",
          "data": {
            "text/plain": [
              "NaN       882\n",
              "Female    588\n",
              "Name: Gender, dtype: int64"
            ]
          },
          "metadata": {
            "tags": []
          },
          "execution_count": 5
        }
      ]
    },
    {
      "cell_type": "code",
      "metadata": {
        "colab": {
          "base_uri": "https://localhost:8080/"
        },
        "id": "STrpz5LcxuQs",
        "outputId": "b135a529-a9b3-4ce0-fbe5-3bb10c3461a5"
      },
      "source": [
        "# Based on the above findings, there are many missing values in the Gender column and there is no data for male\n",
        "# Try to find some patterns like which department or jobrole has more missing values \n",
        "employee.groupby(['Department'])['Gender'].value_counts(dropna=False)"
      ],
      "execution_count": 6,
      "outputs": [
        {
          "output_type": "execute_result",
          "data": {
            "text/plain": [
              "Department              Gender\n",
              "Human Resources         NaN        43\n",
              "                        Female     20\n",
              "Research & Development  NaN       582\n",
              "                        Female    379\n",
              "Sales                   NaN       257\n",
              "                        Female    189\n",
              "Name: Gender, dtype: int64"
            ]
          },
          "metadata": {
            "tags": []
          },
          "execution_count": 6
        }
      ]
    },
    {
      "cell_type": "code",
      "metadata": {
        "colab": {
          "base_uri": "https://localhost:8080/",
          "height": 297
        },
        "id": "GTSEuAqLlrlY",
        "outputId": "1cceed38-2dd3-4632-c330-cbb174f93cc2"
      },
      "source": [
        "# see if there is a difference in attrition between female and the missing values group\n",
        "employee_df=employee.copy()\n",
        "employee_df['Gender']=np.where(employee_df['Gender'].isna(),1,0)\n",
        "sns.countplot(x=employee_df['Gender'], hue=employee_df['Attrition'], data=employee_df)"
      ],
      "execution_count": 7,
      "outputs": [
        {
          "output_type": "execute_result",
          "data": {
            "text/plain": [
              "<matplotlib.axes._subplots.AxesSubplot at 0x7f7513c2bd10>"
            ]
          },
          "metadata": {
            "tags": []
          },
          "execution_count": 7
        },
        {
          "output_type": "display_data",
          "data": {
            "image/png": "[encoded data removed]",
            "text/plain": [
              "<Figure size 432x288 with 1 Axes>"
            ]
          },
          "metadata": {
            "tags": [],
            "needs_background": "light"
          }
        }
      ]
    },
    {
      "cell_type": "code",
      "metadata": {
        "id": "Z8fd0CwPyBoS"
      },
      "source": [
        "# Replace missing values with unknown\n",
        "employee['Gender']=employee['Gender'].fillna('Unknown')"
      ],
      "execution_count": 8,
      "outputs": []
    },
    {
      "cell_type": "code",
      "metadata": {
        "colab": {
          "base_uri": "https://localhost:8080/"
        },
        "id": "CGpZhgKezeVo",
        "outputId": "5ec0123f-7a81-40a5-d6df-ad56b13293a8"
      },
      "source": [
        "# Check to see if there is any NaNs\n",
        "employee.info() "
      ],
      "execution_count": 9,
      "outputs": [
        {
          "output_type": "stream",
          "text": [
            "<class 'pandas.core.frame.DataFrame'>\n",
            "RangeIndex: 1470 entries, 0 to 1469\n",
            "Data columns (total 35 columns):\n",
            " #   Column                    Non-Null Count  Dtype \n",
            "---  ------                    --------------  ----- \n",
            " 0   Age                       1470 non-null   int64 \n",
            " 1   Attrition                 1470 non-null   object\n",
            " 2   BusinessTravel            1470 non-null   object\n",
            " 3   DailyRate                 1470 non-null   int64 \n",
            " 4   Department                1470 non-null   object\n",
            " 5   DistanceFromHome          1470 non-null   int64 \n",
            " 6   Education                 1470 non-null   int64 \n",
            " 7   EducationField            1470 non-null   object\n",
            " 8   EmployeeCount             1470 non-null   int64 \n",
            " 9   EmployeeNumber            1470 non-null   int64 \n",
            " 10  EnvironmentSatisfaction   1470 non-null   int64 \n",
            " 11  Gender                    1470 non-null   object\n",
            " 12  HourlyRate                1470 non-null   int64 \n",
            " 13  JobInvolvement            1470 non-null   int64 \n",
            " 14  JobLevel                  1470 non-null   int64 \n",
            " 15  JobRole                   1470 non-null   object\n",
            " 16  JobSatisfaction           1470 non-null   int64 \n",
            " 17  MaritalStatus             1470 non-null   object\n",
            " 18  MonthlyIncome             1470 non-null   int64 \n",
            " 19  MonthlyRate               1470 non-null   int64 \n",
            " 20  NumCompaniesWorked        1470 non-null   int64 \n",
            " 21  Over18                    1470 non-null   object\n",
            " 22  OverTime                  1470 non-null   object\n",
            " 23  PercentSalaryHike         1470 non-null   int64 \n",
            " 24  PerformanceRating         1470 non-null   int64 \n",
            " 25  RelationshipSatisfaction  1470 non-null   int64 \n",
            " 26  StandardHours             1470 non-null   int64 \n",
            " 27  StockOptionLevel          1470 non-null   int64 \n",
            " 28  TotalWorkingYears         1470 non-null   int64 \n",
            " 29  TrainingTimesLastYear     1470 non-null   int64 \n",
            " 30  WorkLifeBalance           1470 non-null   int64 \n",
            " 31  YearsAtCompany            1470 non-null   object\n",
            " 32  YearsInCurrentRole        1470 non-null   int64 \n",
            " 33  YearsSinceLastPromotion   1470 non-null   int64 \n",
            " 34  YearsWithCurrManager      1470 non-null   int64 \n",
            "dtypes: int64(25), object(10)\n",
            "memory usage: 402.1+ KB\n"
          ],
          "name": "stdout"
        }
      ]
    },
    {
      "cell_type": "markdown",
      "metadata": {
        "id": "zNEVls8a-nXf"
      },
      "source": [
        "Data Visualization"
      ]
    },
    {
      "cell_type": "code",
      "metadata": {
        "colab": {
          "base_uri": "https://localhost:8080/",
          "height": 699
        },
        "id": "O9U6IllP9eJx",
        "outputId": "5b4c3d3a-60b0-4533-8282-707b704282ee"
      },
      "source": [
        "# Distance from work,worklife balance,travel and overtime are all related to work-life balance,hence put them together as one aspect\n",
        "\n",
        "fig,axes=plt.subplots(nrows=2,ncols=2,figsize=(12,10))\n",
        "\n",
        "# Create boxplot to compare distance from work between attrition group and not attrition group\n",
        "dis_a=employee[employee['Attrition']=='Yes']['DistanceFromHome']\n",
        "dis_na=employee[employee['Attrition']=='No']['DistanceFromHome']\n",
        "boxes=axes[0,0].boxplot([dis_a,dis_na],labels=['Attrition','Not Attrition'],notch=True,patch_artist=True,widths=0.4,\n",
        "                  medianprops=dict(linestyle='-',linewidth=3,color='yellow'),\n",
        "                  boxprops=dict(linestyle='--',linewidth=2,color='black',facecolor='blue',alpha=0.7))\n",
        "boxes['boxes'][0].set_facecolor('orange')\n",
        "axes[0,0].set_title('Distance from Home',fontsize=15)   \n",
        "axes[0,0].set_ylabel('Distance from Home',fontsize=14);\n",
        "\n",
        "\n",
        "# Create boxplot to see if there is a difference in work life balance score between the two groups\n",
        "wlb_a=employee[employee['Attrition']=='Yes']['WorkLifeBalance']\n",
        "wlb_na=employee[employee['Attrition']=='No']['WorkLifeBalance']\n",
        "boxplots=axes[0,1].boxplot([wlb_a,wlb_na],labels=['Attrition','Not Attrition'],patch_artist=True,widths=0.4,\n",
        "                  medianprops=dict(linestyle='-',linewidth=3,color='Red'),\n",
        "                  boxprops=dict(linestyle='--',linewidth=2,color='black',facecolor='blue',alpha=0.7))\n",
        "boxplots['boxes'][0].set_facecolor('orange')\n",
        "axes[0,1].set_title('Work Life Balance',fontsize=15)   \n",
        "axes[0,1].set_ylabel('Work life balance',fontsize=14);\n",
        "\n",
        "\n",
        "# Create barplot to compare the percentage of employees with frequent travel between the two groups\n",
        "# Get # of employees for each travel frequency for the two groups\n",
        "travel=employee.groupby(['Attrition','BusinessTravel'])[['EmployeeNumber']].count()  \n",
        "# Convert count to percentage of employees for each travel frequency category within each group (refernce,https://stackoverflow.com/questions/23377108/pandas-percentage-of-total-with-groupby)\n",
        "travel_percent=travel.groupby(level=0).apply(lambda x:x*100/x.sum()).reset_index() \n",
        "travel_percent.rename(columns={'EmployeeNumber':'Percentage of employees'},inplace=True)\n",
        "travel_percent.sort_values(by='Attrition',ascending=False,inplace=True) # Put attrition group first \n",
        "# get only the percentage of travel_frequently for each group and plot\n",
        "axes[1,0].bar(travel_percent[travel_percent['BusinessTravel']=='Travel_Frequently']['Attrition'],  \n",
        "              travel_percent[travel_percent['BusinessTravel']=='Travel_Frequently']['Percentage of employees'],\n",
        "              width=0.35,color=['orange','blue'],alpha=0.7)\n",
        "axes[1,0].set_xticklabels(['Attrition','Not Attrition'])\n",
        "axes[1,0].set_ylabel('Percentage of travel freqently',fontsize=14)\n",
        "axes[1,0].set_title('Frequent Business Travel',fontsize=15)\n",
        "\n",
        "\n",
        "# create barplot to compare overtime between the two groups\n",
        "# count # of employees in each overtime category for each group\n",
        "overtime=employee.groupby(['Attrition','OverTime'])[['EmployeeNumber']].count() \n",
        "# convert to percentage\n",
        "overtime_percentage=overtime.groupby(level=0).apply(lambda x:x*100/x.sum()).reset_index() \n",
        "overtime_percentage.rename(columns={'EmployeeNumber':'Percentage of Over Time'},inplace=True)\n",
        "overtime_percentage.sort_values(by='Attrition',ascending=False,inplace=True)\n",
        "# get only the percentage of employees who work overtime(overtime=yes) for each group and plot\n",
        "axes[1,1].bar(overtime_percentage[overtime_percentage['OverTime']=='Yes']['Attrition'], \n",
        "              overtime_percentage[overtime_percentage['OverTime']=='Yes']['Percentage of Over Time'],width=0.35,color=['orange','blue'],alpha=0.7)\n",
        "axes[1,1].set_xticklabels(['Attrition','Not Attrition'])\n",
        "axes[1,1].set_ylabel('Percentage of overtime',fontsize=14)\n",
        "axes[1,1].set_title('Work Over Time',fontsize=15);\n",
        "plt.savefig('worklifebalance.png', dpi = 300)"
      ],
      "execution_count": 10,
      "outputs": [
        {
          "output_type": "stream",
          "text": [
            "/usr/local/lib/python3.7/dist-packages/numpy/core/_asarray.py:83: VisibleDeprecationWarning: Creating an ndarray from ragged nested sequences (which is a list-or-tuple of lists-or-tuples-or ndarrays with different lengths or shapes) is deprecated. If you meant to do this, you must specify 'dtype=object' when creating the ndarray\n",
            "  return array(a, dtype, copy=False, order=order)\n",
            "/usr/local/lib/python3.7/dist-packages/numpy/core/_asarray.py:83: VisibleDeprecationWarning: Creating an ndarray from ragged nested sequences (which is a list-or-tuple of lists-or-tuples-or ndarrays with different lengths or shapes) is deprecated. If you meant to do this, you must specify 'dtype=object' when creating the ndarray\n",
            "  return array(a, dtype, copy=False, order=order)\n"
          ],
          "name": "stderr"
        },
        {
          "output_type": "display_data",
          "data": {
            "image/png": "[encoded data removed]",
            "text/plain": [
              "<Figure size 864x720 with 4 Axes>"
            ]
          },
          "metadata": {
            "tags": [],
            "needs_background": "light"
          }
        }
      ]
    },
    {
      "cell_type": "markdown",
      "metadata": {
        "id": "cl46ED7K7i2x"
      },
      "source": [
        "Insights: From the graphs, there is a difference in distance from home between attrition and not attrition group. The median distance from home is higher in attrition group. The percentage of employees who travel frequently and who work overtime are both higher in attrition group. "
      ]
    },
    {
      "cell_type": "code",
      "metadata": {
        "colab": {
          "base_uri": "https://localhost:8080/",
          "height": 369
        },
        "id": "QSXtmXbB_kFK",
        "outputId": "4fd58924-b545-4250-d3a1-c41de8bb64ff"
      },
      "source": [
        "# Create relplot to show relationship among attrition, monthly income and years at company and\n",
        "employee_a=employee[employee['Attrition']=='Yes'] # Only show attrition group\n",
        "sns.relplot(data=employee_a,x='YearsAtCompany',y='MonthlyIncome',color=['blue'],alpha=0.8);\n",
        "plt.tight_layout()\n",
        "plt.savefig('Income1.png', dpi = 300)"
      ],
      "execution_count": 11,
      "outputs": [
        {
          "output_type": "display_data",
          "data": {
            "image/png": "[encoded data removed]",
            "text/plain": [
              "<Figure size 360x360 with 1 Axes>"
            ]
          },
          "metadata": {
            "tags": [],
            "needs_background": "light"
          }
        }
      ]
    },
    {
      "cell_type": "code",
      "metadata": {
        "colab": {
          "base_uri": "https://localhost:8080/",
          "height": 369
        },
        "id": "RY7uakQySJFw",
        "outputId": "535910a7-3b92-47a5-de92-a563581db2a4"
      },
      "source": [
        "# Create histograms to see more clearly that which income and years at company group has the highest staff attrition\n",
        "plt.figure(figsize=(12,5))\n",
        "\n",
        "plt.subplot(1,2,1)\n",
        "plt.hist(employee_a['MonthlyIncome'],edgecolor='k',color='blue',alpha=0.7)\n",
        "plt.title('Income')\n",
        "\n",
        "plt.subplot(1,2,2)\n",
        "plt.hist(employee_a['YearsAtCompany'],edgecolor='k',color='blue',alpha=0.7)\n",
        "plt.title('Years at Company')\n",
        "\n",
        "plt.tight_layout()\n",
        "plt.savefig('Income2.png', dpi = 300)"
      ],
      "execution_count": 12,
      "outputs": [
        {
          "output_type": "display_data",
          "data": {
            "image/png": "[encoded data removed]",
            "text/plain": [
              "<Figure size 864x360 with 2 Axes>"
            ]
          },
          "metadata": {
            "tags": [],
            "needs_background": "light"
          }
        }
      ]
    },
    {
      "cell_type": "markdown",
      "metadata": {
        "id": "6WGtEGyM9DOJ"
      },
      "source": [
        "Insights: It was found from the seaborn relplot that more employee attrition occurs in low monthly income group, and also among new employees. The histograms gives closer view that high employee attrition occurs among employees with income level of 2500 or lower. High employee attrition also occurs among employees who work for the company for less than 5 years."
      ]
    },
    {
      "cell_type": "code",
      "metadata": {
        "colab": {
          "base_uri": "https://localhost:8080/",
          "height": 369
        },
        "id": "sfTEOUbrMqDy",
        "outputId": "a5530a62-a55e-4b29-d398-c29274dcdf74"
      },
      "source": [
        "# Show comparison of stock option between attrition and not attrition group\n",
        "\n",
        "# Get the count of employees for each stock level category for each group\n",
        "employee_stock=employee.groupby(['Attrition','StockOptionLevel'])[['EmployeeNumber']].count()\n",
        "employee_stock.rename(columns={'EmployeeNumber':'Percent'},inplace=True)\n",
        "# Convert count to percentage of employees with a certain stock option level within the group\n",
        "stock_percent=employee_stock.groupby(level=0).apply(lambda x: x*100/x.sum()).reset_index()\n",
        "\n",
        "# Create bar graph for each stock option level for attrition and not attrition group\n",
        "x=np.arange(0,2) # x axis\n",
        "width=0.35\n",
        "\n",
        "plt.figure(figsize=(10,5))\n",
        "plt.bar(x-width/2,stock_percent[stock_percent['StockOptionLevel']==0]['Percent'],width=width/2,label='0 Stock Option',color='Blue',alpha=0.7)\n",
        "plt.bar(x,stock_percent[stock_percent['StockOptionLevel']==1]['Percent'],width=width/2,label='1 Stock Option',color='orange',alpha=0.8)\n",
        "plt.bar(x+width/2,stock_percent[stock_percent['StockOptionLevel']==2]['Percent'],width=width/2,label='2 Stock Option',color='green',alpha=0.8)\n",
        "plt.bar(x+width,stock_percent[stock_percent['StockOptionLevel']==1]['Percent'],width=width/2,label='3 Stock Option',color='grey',alpha=0.8)\n",
        "\n",
        "plt.xticks(x,['Not Attrition','Attrition'])\n",
        "plt.title('Percentage of Employees with Stock Option',fontsize=15)\n",
        "plt.ylabel('Percenage of employees',fontsize=14)\n",
        "plt.xlabel('Attrition Status',fontsize=14)\n",
        "plt.legend()\n",
        "\n",
        "plt.tight_layout()\n",
        "plt.savefig('Stock', dpi = 300)"
      ],
      "execution_count": 13,
      "outputs": [
        {
          "output_type": "display_data",
          "data": {
            "image/png": "[encoded data removed]",
            "text/plain": [
              "<Figure size 720x360 with 1 Axes>"
            ]
          },
          "metadata": {
            "tags": [],
            "needs_background": "light"
          }
        }
      ]
    },
    {
      "cell_type": "markdown",
      "metadata": {
        "id": "S0XKr31efXEx"
      },
      "source": [
        "Insights: The percentage of staff with 0 stock option level is much higher in attrition group compared with not attrition group.\n"
      ]
    },
    {
      "cell_type": "code",
      "metadata": {
        "colab": {
          "base_uri": "https://localhost:8080/",
          "height": 459
        },
        "id": "jJ_HXgv3NldT",
        "outputId": "22e79987-8e51-4905-b01e-51fe7fd3abc5"
      },
      "source": [
        "# Difference of career development oppportunities (training and promotion) between attrition and not attrition group\n",
        "\n",
        "fig,axes=plt.subplots(nrows=1,ncols=2,figsize=(12,5))\n",
        "# Create boxplot for training times for each group\n",
        "axes[0].boxplot([employee[employee['Attrition']=='Yes']['TrainingTimesLastYear'],\n",
        "                 employee[employee['Attrition']=='No']['TrainingTimesLastYear']],labels=['Attrition','Not Attrition'],notch=True,widths=0.5,\n",
        "                patch_artist=True,medianprops=dict(linestyle='-',linewidth=3,color='Yellow'),showmeans=True, \n",
        "                meanprops =dict(marker='X', markeredgecolor='black',markerfacecolor='firebrick'),\n",
        "                boxprops=dict(linestyle='--',linewidth=2,color='k',facecolor='blue',alpha=0.6)\n",
        "                )\n",
        "axes[0].set_title('Training Times Last Year')\n",
        "axes[0].set_ylabel('Training times')\n",
        "\n",
        "# Create boxplot for years since last promotion for each group\n",
        "axes[1].boxplot([employee[employee['Attrition']=='Yes']['YearsSinceLastPromotion'],\n",
        "                 employee[employee['Attrition']=='No']['YearsSinceLastPromotion']],labels=['Attrition','Not Attrition'],notch=True,widths=0.5,\n",
        "                patch_artist=True,medianprops=dict(linestyle='-',linewidth=3,color='Yellow'),showmeans=True, \n",
        "                meanprops =dict(marker='X', markeredgecolor='black',markerfacecolor='firebrick'),\n",
        "                boxprops=dict(linestyle='--',linewidth=2,color='k',facecolor='blue',alpha=0.6)\n",
        "                );\n",
        "axes[1].set_title('Years Since Last Promotion')\n",
        "axes[1].set_ylabel('Years since last promotion')\n",
        "\n",
        "plt.tight_layout()\n",
        "plt.savefig('career', dpi = 300)"
      ],
      "execution_count": 14,
      "outputs": [
        {
          "output_type": "stream",
          "text": [
            "/usr/local/lib/python3.7/dist-packages/numpy/core/_asarray.py:83: VisibleDeprecationWarning: Creating an ndarray from ragged nested sequences (which is a list-or-tuple of lists-or-tuples-or ndarrays with different lengths or shapes) is deprecated. If you meant to do this, you must specify 'dtype=object' when creating the ndarray\n",
            "  return array(a, dtype, copy=False, order=order)\n",
            "/usr/local/lib/python3.7/dist-packages/numpy/core/_asarray.py:83: VisibleDeprecationWarning: Creating an ndarray from ragged nested sequences (which is a list-or-tuple of lists-or-tuples-or ndarrays with different lengths or shapes) is deprecated. If you meant to do this, you must specify 'dtype=object' when creating the ndarray\n",
            "  return array(a, dtype, copy=False, order=order)\n"
          ],
          "name": "stderr"
        },
        {
          "output_type": "display_data",
          "data": {
            "image/png": "[encoded data removed]",
            "text/plain": [
              "<Figure size 864x360 with 2 Axes>"
            ]
          },
          "metadata": {
            "tags": [],
            "needs_background": "light"
          }
        }
      ]
    },
    {
      "cell_type": "markdown",
      "metadata": {
        "id": "jv6UFj_ES-sL"
      },
      "source": [
        "Insights: Training times last year is lower in attrition group compared with not attrition group"
      ]
    },
    {
      "cell_type": "code",
      "metadata": {
        "colab": {
          "base_uri": "https://localhost:8080/",
          "height": 729
        },
        "id": "gpW2sxDCfkYt",
        "outputId": "71cd7ed9-a57a-487f-a8e4-4565ceaf9949"
      },
      "source": [
        "# Compare employee attrition among departments\n",
        "\n",
        "# Get the count of employees for each department in each group\n",
        "employee_dept=employee.groupby(['Department','Attrition'])[['EmployeeNumber']].count()\n",
        "employee_dept.rename(columns={'EmployeeNumber':'Percent'},inplace=True)\n",
        "# convert count to percentage\n",
        "employee_dept=employee_dept.groupby(level=0).apply(lambda x: x*100/x.sum()).reset_index()\n",
        "\n",
        "plt.figure(figsize=(8,10))\n",
        "plt.subplot(2,1,1)\n",
        "plt.bar(employee_dept[employee_dept['Attrition']=='Yes']['Department'],employee_dept[employee_dept['Attrition']=='Yes']['Percent'],width=0.35,color='blue',alpha=0.7)\n",
        "plt.xlabel('Department',fontsize=14)    \n",
        "plt.ylabel('Percentage of attrition',fontsize=14)   \n",
        "plt.title('Employee Attrition by Department',fontsize=15)\n",
        "\n",
        "# Get the count of employees for each role in each group\n",
        "employee_role=employee.groupby(['JobRole','Attrition'])[['EmployeeNumber']].count()\n",
        "employee_role.rename(columns={'EmployeeNumber':'Percent'},inplace=True)\n",
        "# Convert count to percentage\n",
        "employee_role=employee_role.groupby(level=0).apply(lambda x: x*100/x.sum()).reset_index().sort_values(by='Percent')\n",
        "\n",
        "plt.subplot(2,1,2)\n",
        "plt.barh(employee_role[employee_role['Attrition']=='Yes']['JobRole'],employee_role[employee_role['Attrition']=='Yes']['Percent'],color='blue',alpha=0.7)\n",
        "plt.xlabel('Percentage of attrition',fontsize=14)    \n",
        "plt.ylabel('Job Role',fontsize=14)   \n",
        "plt.title('Employee Attrition by Job Role',fontsize=15)\n",
        "\n",
        "plt.tight_layout()\n",
        "plt.savefig('Dept', dpi = 300)"
      ],
      "execution_count": 15,
      "outputs": [
        {
          "output_type": "display_data",
          "data": {
            "image/png": "[encoded data removed]",
            "text/plain": [
              "<Figure size 576x720 with 2 Axes>"
            ]
          },
          "metadata": {
            "tags": [],
            "needs_background": "light"
          }
        }
      ]
    },
    {
      "cell_type": "markdown",
      "metadata": {
        "id": "Y9YiJF7LNOtK"
      },
      "source": [
        "Insights: Sales department has the highest staff attrition; Sales Representative has the highest attrition among all the job roles."
      ]
    },
    {
      "cell_type": "code",
      "metadata": {
        "colab": {
          "base_uri": "https://localhost:8080/",
          "height": 297
        },
        "id": "Vh0xwr7Z6R2q",
        "outputId": "b7e7ced1-7a04-4318-fb7c-5d99a69c314d"
      },
      "source": [
        "# Create bar graph to show comparison of employee stisfactoin between attrition and not attrition group\n",
        "\n",
        "fig,axes=plt.subplots(nrows=1,ncols=3,figsize=(12,4))\n",
        "\n",
        "# Create df for average environment satisfaction, job satisfacion and relationship satisfaction for attrition and not attrition group\n",
        "employee_es=employee.groupby(['Attrition'])['EnvironmentSatisfaction'].mean()\n",
        "employee_js=employee.groupby(['Attrition'])['JobSatisfaction'].mean()\n",
        "employee_rs=employee.groupby(['Attrition'])['RelationshipSatisfaction'].mean()\n",
        "\n",
        "# Plot bar for environment satisfaction for each group\n",
        "axes[0].bar(employee_es.index,employee_es.values,width=0.35,color=['blue','orange'],alpha=0.8)\n",
        "axes[0].set_title('Environment Satisfaction')\n",
        "axes[0].set_xticklabels(['Not Attrition','Attrition'])\n",
        "\n",
        "# Plot bar for job satisfaction for each group\n",
        "axes[1].bar(employee_js.index,employee_js.values,width=0.35,color=['blue','orange'],alpha=0.8)\n",
        "axes[1].set_title('Job Satisfaction')\n",
        "axes[1].set_xticklabels(['Not Attrition','Attrition'])\n",
        "\n",
        "# Plot bar for relationship satisfaction for each group\n",
        "axes[2].bar(employee_rs.index,employee_rs.values,width=0.35,color=['blue','orange'],alpha=0.8)\n",
        "axes[2].set_title('Relationship Satisfaction')\n",
        "axes[2].set_xticklabels(['Not Attrition','Attrition'])\n",
        "\n",
        "fig.tight_layout()\n",
        "plt.savefig('satisfaction', dpi = 300)"
      ],
      "execution_count": 16,
      "outputs": [
        {
          "output_type": "display_data",
          "data": {
            "image/png": "[encoded data removed]",
            "text/plain": [
              "<Figure size 864x288 with 3 Axes>"
            ]
          },
          "metadata": {
            "tags": [],
            "needs_background": "light"
          }
        }
      ]
    },
    {
      "cell_type": "markdown",
      "metadata": {
        "id": "uREF3em6wW6j"
      },
      "source": [
        "Insights: For attrition group, employees have lower environment satisfaction, job satisfaction and relationship satisfaction. The difference is more obvious for environment satisfaction and job satisfaction."
      ]
    },
    {
      "cell_type": "code",
      "metadata": {
        "colab": {
          "base_uri": "https://localhost:8080/"
        },
        "id": "qQnfaz_lOgrn",
        "outputId": "f025a7a8-2467-46d7-95e8-cd4d8f0c915d"
      },
      "source": [
        "employee.info()"
      ],
      "execution_count": 17,
      "outputs": [
        {
          "output_type": "stream",
          "text": [
            "<class 'pandas.core.frame.DataFrame'>\n",
            "RangeIndex: 1470 entries, 0 to 1469\n",
            "Data columns (total 35 columns):\n",
            " #   Column                    Non-Null Count  Dtype \n",
            "---  ------                    --------------  ----- \n",
            " 0   Age                       1470 non-null   int64 \n",
            " 1   Attrition                 1470 non-null   object\n",
            " 2   BusinessTravel            1470 non-null   object\n",
            " 3   DailyRate                 1470 non-null   int64 \n",
            " 4   Department                1470 non-null   object\n",
            " 5   DistanceFromHome          1470 non-null   int64 \n",
            " 6   Education                 1470 non-null   int64 \n",
            " 7   EducationField            1470 non-null   object\n",
            " 8   EmployeeCount             1470 non-null   int64 \n",
            " 9   EmployeeNumber            1470 non-null   int64 \n",
            " 10  EnvironmentSatisfaction   1470 non-null   int64 \n",
            " 11  Gender                    1470 non-null   object\n",
            " 12  HourlyRate                1470 non-null   int64 \n",
            " 13  JobInvolvement            1470 non-null   int64 \n",
            " 14  JobLevel                  1470 non-null   int64 \n",
            " 15  JobRole                   1470 non-null   object\n",
            " 16  JobSatisfaction           1470 non-null   int64 \n",
            " 17  MaritalStatus             1470 non-null   object\n",
            " 18  MonthlyIncome             1470 non-null   int64 \n",
            " 19  MonthlyRate               1470 non-null   int64 \n",
            " 20  NumCompaniesWorked        1470 non-null   int64 \n",
            " 21  Over18                    1470 non-null   object\n",
            " 22  OverTime                  1470 non-null   object\n",
            " 23  PercentSalaryHike         1470 non-null   int64 \n",
            " 24  PerformanceRating         1470 non-null   int64 \n",
            " 25  RelationshipSatisfaction  1470 non-null   int64 \n",
            " 26  StandardHours             1470 non-null   int64 \n",
            " 27  StockOptionLevel          1470 non-null   int64 \n",
            " 28  TotalWorkingYears         1470 non-null   int64 \n",
            " 29  TrainingTimesLastYear     1470 non-null   int64 \n",
            " 30  WorkLifeBalance           1470 non-null   int64 \n",
            " 31  YearsAtCompany            1470 non-null   object\n",
            " 32  YearsInCurrentRole        1470 non-null   int64 \n",
            " 33  YearsSinceLastPromotion   1470 non-null   int64 \n",
            " 34  YearsWithCurrManager      1470 non-null   int64 \n",
            "dtypes: int64(25), object(10)\n",
            "memory usage: 402.1+ KB\n"
          ],
          "name": "stdout"
        }
      ]
    },
    {
      "cell_type": "markdown",
      "metadata": {
        "id": "xCPTUjrhBxH-"
      },
      "source": [
        "# Feature Engineering"
      ]
    },
    {
      "cell_type": "code",
      "metadata": {
        "id": "SWYRRYQLFMYS"
      },
      "source": [
        "# Change YearsAtCompany to int\n",
        "# Using astype directly will give an error as there is a special charactor so using apply method with lambda here to remove '!' and convert to int\n",
        "employee['YearsAtCompany']=employee['YearsAtCompany'].apply(lambda x: int(x.rstrip('!')) if '!' in x else int(x))"
      ],
      "execution_count": 18,
      "outputs": []
    },
    {
      "cell_type": "code",
      "metadata": {
        "colab": {
          "base_uri": "https://localhost:8080/"
        },
        "id": "MzusJGt_CGro",
        "outputId": "af82922f-c103-4bf3-f3d7-d0164dd53267"
      },
      "source": [
        "cat_var=[feature for feature in employee.columns if employee[feature].dtypes =='O']\n",
        "for var in cat_var:\n",
        "  print(employee[var].value_counts())"
      ],
      "execution_count": 19,
      "outputs": [
        {
          "output_type": "stream",
          "text": [
            "No     1233\n",
            "Yes     237\n",
            "Name: Attrition, dtype: int64\n",
            "Travel_Rarely        1043\n",
            "Travel_Frequently     277\n",
            "Non-Travel            150\n",
            "Name: BusinessTravel, dtype: int64\n",
            "Research & Development    961\n",
            "Sales                     446\n",
            "Human Resources            63\n",
            "Name: Department, dtype: int64\n",
            "Life Sciences       606\n",
            "Medical             464\n",
            "Marketing           159\n",
            "Technical Degree    132\n",
            "Other                82\n",
            "Human Resources      27\n",
            "Name: EducationField, dtype: int64\n",
            "Unknown    882\n",
            "Female     588\n",
            "Name: Gender, dtype: int64\n",
            "Sales Executive              326\n",
            "Research Scientist           292\n",
            "Laboratory Technician        259\n",
            "Manufacturing Director       145\n",
            "Healthcare Representative    131\n",
            "Manager                      102\n",
            "Sales Representative          83\n",
            "Research Director             80\n",
            "Human Resources               52\n",
            "Name: JobRole, dtype: int64\n",
            "Married     673\n",
            "Single      470\n",
            "Divorced    327\n",
            "Name: MaritalStatus, dtype: int64\n",
            "Y    1470\n",
            "Name: Over18, dtype: int64\n",
            "No     1054\n",
            "Yes     416\n",
            "Name: OverTime, dtype: int64\n"
          ],
          "name": "stdout"
        }
      ]
    },
    {
      "cell_type": "code",
      "metadata": {
        "id": "d_PzUfs_CLNb"
      },
      "source": [
        "employee['BusinessTravel']=employee['BusinessTravel'].map({'Non-Travel':0,'Travel_Rarely':1,'Travel_Frequently':2})"
      ],
      "execution_count": 20,
      "outputs": []
    },
    {
      "cell_type": "code",
      "metadata": {
        "id": "xPQ1u6NUCZC0"
      },
      "source": [
        "le=LabelEncoder()\n",
        "employee['Attrition']=le.fit_transform(employee['Attrition'])"
      ],
      "execution_count": 21,
      "outputs": []
    },
    {
      "cell_type": "code",
      "metadata": {
        "id": "RUy5twfZCeaw"
      },
      "source": [
        "cat_var=[feature for feature in employee.columns if employee[feature].dtype=='O']\n",
        "employee=pd.get_dummies(employee,columns=cat_var)"
      ],
      "execution_count": 22,
      "outputs": []
    },
    {
      "cell_type": "code",
      "metadata": {
        "id": "GG8wb3DNVeKp"
      },
      "source": [
        "X=employee.drop(columns=['Attrition'])\n",
        "y=employee['Attrition']"
      ],
      "execution_count": 23,
      "outputs": []
    },
    {
      "cell_type": "code",
      "metadata": {
        "id": "Ndrex5hvP6O2"
      },
      "source": [
        "X_train, X_test,y_train,y_test=train_test_split(X,y,random_state=3,stratify=y)"
      ],
      "execution_count": 24,
      "outputs": []
    },
    {
      "cell_type": "markdown",
      "metadata": {
        "id": "POwqAcIf2UVQ"
      },
      "source": [
        "# Modeling"
      ]
    },
    {
      "cell_type": "code",
      "metadata": {
        "colab": {
          "base_uri": "https://localhost:8080/"
        },
        "id": "FMHASdW62agm",
        "outputId": "b2cb4f11-c03c-4c36-e559-ea42fb625e02"
      },
      "source": [
        "# baseline model\n",
        "employee['Attrition'].value_counts()"
      ],
      "execution_count": 5,
      "outputs": [
        {
          "output_type": "execute_result",
          "data": {
            "text/plain": [
              "No     1233\n",
              "Yes     237\n",
              "Name: Attrition, dtype: int64"
            ]
          },
          "metadata": {
            "tags": []
          },
          "execution_count": 5
        }
      ]
    },
    {
      "cell_type": "code",
      "metadata": {
        "colab": {
          "base_uri": "https://localhost:8080/"
        },
        "id": "ngiTZ4rB2yE5",
        "outputId": "dd94582f-a1c1-4e31-babb-5d57ce21a854"
      },
      "source": [
        "baseline=len(employee[employee['Attrition']=='No'])/len(employee)\n",
        "baseline"
      ],
      "execution_count": 8,
      "outputs": [
        {
          "output_type": "execute_result",
          "data": {
            "text/plain": [
              "0.8387755102040816"
            ]
          },
          "metadata": {
            "tags": []
          },
          "execution_count": 8
        }
      ]
    },
    {
      "cell_type": "code",
      "metadata": {
        "id": "cxTmRZPBVTwl"
      },
      "source": [
        "scaler=StandardScaler()\n",
        "sc_xtrain=scaler.fit_transform(X_train)\n",
        "sc_xtest=scaler.transform(X_test)"
      ],
      "execution_count": 25,
      "outputs": []
    },
    {
      "cell_type": "code",
      "metadata": {
        "colab": {
          "base_uri": "https://localhost:8080/"
        },
        "id": "WcRnGuACWlLH",
        "outputId": "52ffc874-929d-4f5b-b977-4fd0b275aaaa"
      },
      "source": [
        "logreg=LogisticRegression(solver='liblinear',max_iter=10000)\n",
        "logreg.fit(X_train,y_train)\n",
        "\n",
        "print('Training accuracy:', logreg.score(sc_xtrain, y_train))\n",
        "print('Test accuracy:', logreg.score(sc_xtest, y_test))"
      ],
      "execution_count": 26,
      "outputs": [
        {
          "output_type": "stream",
          "text": [
            "Training accuracy: 0.6433756805807622\n",
            "Test accuracy: 0.6521739130434783\n"
          ],
          "name": "stdout"
        }
      ]
    },
    {
      "cell_type": "code",
      "metadata": {
        "colab": {
          "base_uri": "https://localhost:8080/"
        },
        "id": "asDMzDsjW5W9",
        "outputId": "de8f11af-4f95-41ce-9d93-2c3c51249c0c"
      },
      "source": [
        "from sklearn.model_selection import GridSearchCV\n",
        "\n",
        "params={'penalty':['l1','l2'],\n",
        "        'C':[0.0001,0.001,0.1,1,10,20,30,50,100],\n",
        "        'class_weight':[None,'balanced']}\n",
        "lrgs=GridSearchCV(logreg,params,cv=5)\n",
        "lrgs.fit(sc_xtrain,y_train)\n",
        "\n",
        "print('Training accuracy:', lrgs.score(sc_xtrain, y_train))\n",
        "print('Test accuracy:', lrgs.score(sc_xtest, y_test))"
      ],
      "execution_count": 27,
      "outputs": [
        {
          "output_type": "stream",
          "text": [
            "Training accuracy: 0.9010889292196007\n",
            "Test accuracy: 0.8668478260869565\n"
          ],
          "name": "stdout"
        }
      ]
    },
    {
      "cell_type": "code",
      "metadata": {
        "colab": {
          "base_uri": "https://localhost:8080/"
        },
        "id": "5lPHnqkPYaYX",
        "outputId": "2200b0d5-5d88-436e-e50a-edb4816db307"
      },
      "source": [
        "lrgs.best_params_"
      ],
      "execution_count": 28,
      "outputs": [
        {
          "output_type": "execute_result",
          "data": {
            "text/plain": [
              "{'C': 0.1, 'class_weight': None, 'penalty': 'l2'}"
            ]
          },
          "metadata": {
            "tags": []
          },
          "execution_count": 28
        }
      ]
    },
    {
      "cell_type": "code",
      "metadata": {
        "colab": {
          "base_uri": "https://localhost:8080/"
        },
        "id": "pyqWhuGdZY71",
        "outputId": "6f82c7f7-d47e-4d8d-bfd4-42c99f55dbed"
      },
      "source": [
        "from sklearn.svm import SVC\n",
        "svc=SVC(kernel='rbf')\n",
        "svc.fit(sc_xtrain,y_train)\n",
        "\n",
        "print('Training accuracy:', svc.score(sc_xtrain, y_train))\n",
        "print('Test accuracy:', svc.score(sc_xtest, y_test))"
      ],
      "execution_count": 35,
      "outputs": [
        {
          "output_type": "stream",
          "text": [
            "Training accuracy: 0.9237749546279492\n",
            "Test accuracy: 0.8614130434782609\n"
          ],
          "name": "stdout"
        }
      ]
    },
    {
      "cell_type": "code",
      "metadata": {
        "colab": {
          "base_uri": "https://localhost:8080/"
        },
        "id": "cQOZ5lZXAWhC",
        "outputId": "eeae9a72-5722-45c2-ccd5-5886978b0676"
      },
      "source": [
        "rf=RandomForestClassifier()\n",
        "rf.fit(X_train,y_train)\n",
        "\n",
        "print('Training accuracy:', rf.score(X_train, y_train))\n",
        "print('Test accuracy:', rf.score(X_test, y_test))"
      ],
      "execution_count": 36,
      "outputs": [
        {
          "output_type": "stream",
          "text": [
            "Training accuracy: 1.0\n",
            "Test accuracy: 0.8559782608695652\n"
          ],
          "name": "stdout"
        }
      ]
    },
    {
      "cell_type": "code",
      "metadata": {
        "colab": {
          "base_uri": "https://localhost:8080/"
        },
        "id": "pH0qb6XeA_88",
        "outputId": "1ccb3f61-9cd7-46cb-da75-d37e4d4cf8bc"
      },
      "source": [
        "n_estimators=[int(x) for x in np.arange(start=10,stop=150,step=10)]\n",
        "max_features=['auto','sqrt']\n",
        "max_depth=[2,4,6,8]\n",
        "min_samples_split=[2,5,7,9]\n",
        "min_samples_leaf=[1,2]\n",
        "bootstrap=[True,False]\n",
        "\n",
        "params={'n_estimators':n_estimators,'max_features':max_features,'max_depth':max_depth,'min_samples_split':min_samples_split,'min_samples_leaf':min_samples_leaf,'bootstrap':bootstrap}\n",
        "\n",
        "# instantiate & fit gridsearch\n",
        "gs = GridSearchCV(rf,param_grid=params)\n",
        "gs.fit(X_train, y_train)\n",
        "\n",
        "print('Training accuracy:', gs.score(X_train, y_train))\n",
        "print('Test accuracy:', gs.score(X_test, y_test))"
      ],
      "execution_count": 37,
      "outputs": [
        {
          "output_type": "stream",
          "text": [
            "Training accuracy: 0.9500907441016334\n",
            "Test accuracy: 0.8641304347826086\n"
          ],
          "name": "stdout"
        }
      ]
    },
    {
      "cell_type": "markdown",
      "metadata": {
        "id": "6md2ECso3V8G"
      },
      "source": [
        "Both Logistic Regression and Randome Forest can perform better than the baseline\n",
        "Logstic Regression after hyperparameter tuning gives the best accuracy.\n"
      ]
    },
    {
      "cell_type": "code",
      "metadata": {
        "id": "P7holdB4BIED"
      },
      "source": [
        ""
      ],
      "execution_count": null,
      "outputs": []
    }
  ]
}